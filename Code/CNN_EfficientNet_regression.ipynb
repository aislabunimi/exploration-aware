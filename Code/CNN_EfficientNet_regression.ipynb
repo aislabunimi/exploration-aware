{
 "cells": [
  {
   "cell_type": "code",
   "execution_count": 47,
   "metadata": {},
   "outputs": [
    {
     "name": "stdout",
     "output_type": "stream",
     "text": [
      "The autoreload extension is already loaded. To reload it, use:\n",
      "  %reload_ext autoreload\n"
     ]
    }
   ],
   "source": [
    "%load_ext autoreload\n",
    "%autoreload 2"
   ]
  },
  {
   "cell_type": "code",
   "execution_count": 48,
   "metadata": {
    "id": "jGKfaEUD3r9F"
   },
   "outputs": [],
   "source": [
    "from IPython.core.interactiveshell import InteractiveShell\n",
    "InteractiveShell.ast_node_interactivity = \"all\"\n",
    "\n",
    "#os.environ['TF_XLA_FLAGS'] = '--tf_xla_enable_xla_devices'\n"
   ]
  },
  {
   "cell_type": "code",
   "execution_count": 49,
   "metadata": {
    "id": "9PfKgPyr4kLW"
   },
   "outputs": [],
   "source": [
    "import os\n",
    "from datetime import datetime\n",
    "from PIL import Image\n",
    "import tensorflow as tf\n",
    "import time\n",
    "from tensorflow.python.keras.callbacks import TensorBoard\n",
    "import numpy as np\n",
    "from tensorflow.keras.preprocessing.image import ImageDataGenerator\n",
    "from tensorflow.keras.preprocessing.image import ImageDataGenerator\n",
    "from tensorflow.keras.models import Sequential\n",
    "from tensorflow.keras.layers import Dense, Conv2D, MaxPool2D, Flatten, BatchNormalization\n",
    "import gc\n",
    "import matplotlib.pyplot as plt\n",
    "import matplotlib.image as mpimg\n",
    "from IPython.display import clear_output\n",
    "import cv2\n",
    "import matplotlib.cm as cm\n",
    "from IPython.display import Image, display\n",
    "import csv\n",
    "from PIL.Image import fromarray\n",
    "from tensorflow.keras.preprocessing.image import load_img, img_to_array\n",
    "from importlib import reload\n",
    "import csv\n",
    "import pandas as pd\n",
    "from image_crop import crop_image\n",
    "from sklearn.utils import shuffle"
   ]
  },
  {
   "cell_type": "code",
   "execution_count": 50,
   "metadata": {},
   "outputs": [],
   "source": [
    "def fun_labels(number):\n",
    "    if number==0:\n",
    "        return 'NOT_EXPLORED'\n",
    "    if number ==1:\n",
    "        return 'EXPLORED'"
   ]
  },
  {
   "cell_type": "code",
   "execution_count": 51,
   "metadata": {},
   "outputs": [],
   "source": [
    "df_train = pd.read_csv('dataframes/df_train.csv')\n",
    "# df_val = pd.read_csv('df_val_regr.csv')\n",
    "df_test = pd.read_csv('dataframes/df_test.csv')\n",
    "df_train['class'] = df_train['class'].apply(fun_labels)\n",
    "# df_val['class'] = df_val['class'].apply(fun_labels)\n",
    "df_test['class'] = df_test['class'].apply(fun_labels)\n",
    "\n",
    "\n",
    "df_train=df_train.drop(['class'],axis=1)\n",
    "# df_val=df_val.drop(['class'],axis=1)\n",
    "df_test=df_test.drop(['class'],axis=1)\n",
    "\n",
    "#df_train = shuffle(df_train)\n",
    "#df_val = shuffle(df_val)\n",
    "#df_test = shuffle(df_test)\n",
    "#def fun(path):\n",
    "#    return path.replace('TOSHIBA EXT','TOSHIBA\\ EXT')\n",
    "\n",
    "#df['img_path'] = df['img_path'].apply(fun)\n",
    "\n",
    "SEED = 1234\n",
    "tf.random.set_seed(SEED)  \n",
    "\n",
    "# Get current working directory\n",
    "cwd = os.getcwd()"
   ]
  },
  {
   "cell_type": "code",
   "execution_count": 52,
   "metadata": {},
   "outputs": [
    {
     "name": "stdout",
     "output_type": "stream",
     "text": [
      "/home/aislab/Documents/StakanovThesis/robot-aware-exploration/Datasets/Labelled_Data/KTH+MIT/train/NOT_EXPLORED/12-1@run1@0Map.png\n"
     ]
    },
    {
     "data": {
      "text/html": [
       "<div>\n",
       "<style scoped>\n",
       "    .dataframe tbody tr th:only-of-type {\n",
       "        vertical-align: middle;\n",
       "    }\n",
       "\n",
       "    .dataframe tbody tr th {\n",
       "        vertical-align: top;\n",
       "    }\n",
       "\n",
       "    .dataframe thead th {\n",
       "        text-align: right;\n",
       "    }\n",
       "</style>\n",
       "<table border=\"1\" class=\"dataframe\">\n",
       "  <thead>\n",
       "    <tr style=\"text-align: right;\">\n",
       "      <th></th>\n",
       "      <th>img_path</th>\n",
       "      <th>diff_perc</th>\n",
       "    </tr>\n",
       "  </thead>\n",
       "  <tbody>\n",
       "    <tr>\n",
       "      <th>0</th>\n",
       "      <td>/home/aislab/Documents/StakanovThesis/robot-aw...</td>\n",
       "      <td>104.394730</td>\n",
       "    </tr>\n",
       "    <tr>\n",
       "      <th>1</th>\n",
       "      <td>/home/aislab/Documents/StakanovThesis/robot-aw...</td>\n",
       "      <td>102.093084</td>\n",
       "    </tr>\n",
       "    <tr>\n",
       "      <th>2</th>\n",
       "      <td>/home/aislab/Documents/StakanovThesis/robot-aw...</td>\n",
       "      <td>90.250886</td>\n",
       "    </tr>\n",
       "    <tr>\n",
       "      <th>3</th>\n",
       "      <td>/home/aislab/Documents/StakanovThesis/robot-aw...</td>\n",
       "      <td>79.326988</td>\n",
       "    </tr>\n",
       "    <tr>\n",
       "      <th>4</th>\n",
       "      <td>/home/aislab/Documents/StakanovThesis/robot-aw...</td>\n",
       "      <td>71.806965</td>\n",
       "    </tr>\n",
       "  </tbody>\n",
       "</table>\n",
       "</div>"
      ],
      "text/plain": [
       "                                            img_path   diff_perc\n",
       "0  /home/aislab/Documents/StakanovThesis/robot-aw...  104.394730\n",
       "1  /home/aislab/Documents/StakanovThesis/robot-aw...  102.093084\n",
       "2  /home/aislab/Documents/StakanovThesis/robot-aw...   90.250886\n",
       "3  /home/aislab/Documents/StakanovThesis/robot-aw...   79.326988\n",
       "4  /home/aislab/Documents/StakanovThesis/robot-aw...   71.806965"
      ]
     },
     "execution_count": 52,
     "metadata": {},
     "output_type": "execute_result"
    }
   ],
   "source": [
    "print(df_train['img_path'][0])\n",
    "df_train.head()"
   ]
  },
  {
   "cell_type": "code",
   "execution_count": 53,
   "metadata": {},
   "outputs": [],
   "source": [
    "# print(df_val['img_path'][0])\n",
    "# df_val.head()"
   ]
  },
  {
   "cell_type": "code",
   "execution_count": 54,
   "metadata": {},
   "outputs": [
    {
     "name": "stdout",
     "output_type": "stream",
     "text": [
      "/home/aislab/Documents/StakanovThesis/robot-aware-exploration/Datasets/Labelled_Data/KTH+MIT/test/NOT_EXPLORED/36-5@run1@0Map.png\n"
     ]
    }
   ],
   "source": [
    "print(df_test['img_path'][0])\n",
    "# df_val.head()"
   ]
  },
  {
   "cell_type": "code",
   "execution_count": 55,
   "metadata": {},
   "outputs": [
    {
     "name": "stdout",
     "output_type": "stream",
     "text": [
      "[name: \"/device:CPU:0\"\n",
      "device_type: \"CPU\"\n",
      "memory_limit: 268435456\n",
      "locality {\n",
      "}\n",
      "incarnation: 11313441151246781245\n",
      ", name: \"/device:GPU:0\"\n",
      "device_type: \"GPU\"\n",
      "memory_limit: 5183593536\n",
      "locality {\n",
      "  bus_id: 1\n",
      "  links {\n",
      "  }\n",
      "}\n",
      "incarnation: 18045497239823674601\n",
      "physical_device_desc: \"device: 0, name: NVIDIA GeForce GTX 1060 6GB, pci bus id: 0000:01:00.0, compute capability: 6.1\"\n",
      "]\n"
     ]
    },
    {
     "name": "stderr",
     "output_type": "stream",
     "text": [
      "2024-09-17 18:19:44.237618: I tensorflow/compiler/jit/xla_gpu_device.cc:99] Not creating XLA devices, tf_xla_enable_xla_devices not set\n",
      "2024-09-17 18:19:44.237794: I tensorflow/stream_executor/cuda/cuda_gpu_executor.cc:941] successful NUMA node read from SysFS had negative value (-1), but there must be at least one NUMA node, so returning NUMA node zero\n",
      "2024-09-17 18:19:44.237918: I tensorflow/core/common_runtime/gpu/gpu_device.cc:1720] Found device 0 with properties: \n",
      "pciBusID: 0000:01:00.0 name: NVIDIA GeForce GTX 1060 6GB computeCapability: 6.1\n",
      "coreClock: 1.7085GHz coreCount: 10 deviceMemorySize: 5.92GiB deviceMemoryBandwidth: 178.99GiB/s\n",
      "2024-09-17 18:19:44.237947: I tensorflow/stream_executor/platform/default/dso_loader.cc:49] Successfully opened dynamic library libcudart.so.10.1\n",
      "2024-09-17 18:19:44.237980: I tensorflow/stream_executor/platform/default/dso_loader.cc:49] Successfully opened dynamic library libcublas.so.10\n",
      "2024-09-17 18:19:44.237995: I tensorflow/stream_executor/platform/default/dso_loader.cc:49] Successfully opened dynamic library libcublasLt.so.10\n",
      "2024-09-17 18:19:44.238010: I tensorflow/stream_executor/platform/default/dso_loader.cc:49] Successfully opened dynamic library libcufft.so.10\n",
      "2024-09-17 18:19:44.238025: I tensorflow/stream_executor/platform/default/dso_loader.cc:49] Successfully opened dynamic library libcurand.so.10\n",
      "2024-09-17 18:19:44.238039: I tensorflow/stream_executor/platform/default/dso_loader.cc:49] Successfully opened dynamic library libcusolver.so.10\n",
      "2024-09-17 18:19:44.238054: I tensorflow/stream_executor/platform/default/dso_loader.cc:49] Successfully opened dynamic library libcusparse.so.10\n",
      "2024-09-17 18:19:44.238069: I tensorflow/stream_executor/platform/default/dso_loader.cc:49] Successfully opened dynamic library libcudnn.so.7\n",
      "2024-09-17 18:19:44.238139: I tensorflow/stream_executor/cuda/cuda_gpu_executor.cc:941] successful NUMA node read from SysFS had negative value (-1), but there must be at least one NUMA node, so returning NUMA node zero\n",
      "2024-09-17 18:19:44.238328: I tensorflow/stream_executor/cuda/cuda_gpu_executor.cc:941] successful NUMA node read from SysFS had negative value (-1), but there must be at least one NUMA node, so returning NUMA node zero\n",
      "2024-09-17 18:19:44.238423: I tensorflow/core/common_runtime/gpu/gpu_device.cc:1862] Adding visible gpu devices: 0\n",
      "2024-09-17 18:19:44.238445: I tensorflow/core/common_runtime/gpu/gpu_device.cc:1261] Device interconnect StreamExecutor with strength 1 edge matrix:\n",
      "2024-09-17 18:19:44.238449: I tensorflow/core/common_runtime/gpu/gpu_device.cc:1267]      0 \n",
      "2024-09-17 18:19:44.238454: I tensorflow/core/common_runtime/gpu/gpu_device.cc:1280] 0:   N \n",
      "2024-09-17 18:19:44.238523: I tensorflow/stream_executor/cuda/cuda_gpu_executor.cc:941] successful NUMA node read from SysFS had negative value (-1), but there must be at least one NUMA node, so returning NUMA node zero\n",
      "2024-09-17 18:19:44.238647: I tensorflow/stream_executor/cuda/cuda_gpu_executor.cc:941] successful NUMA node read from SysFS had negative value (-1), but there must be at least one NUMA node, so returning NUMA node zero\n",
      "2024-09-17 18:19:44.238732: I tensorflow/core/common_runtime/gpu/gpu_device.cc:1406] Created TensorFlow device (/device:GPU:0 with 4943 MB memory) -> physical GPU (device: 0, name: NVIDIA GeForce GTX 1060 6GB, pci bus id: 0000:01:00.0, compute capability: 6.1)\n"
     ]
    }
   ],
   "source": [
    "from tensorflow.python.client import device_lib\n",
    "print(device_lib.list_local_devices())"
   ]
  },
  {
   "cell_type": "code",
   "execution_count": 56,
   "metadata": {
    "id": "CHpUA9gL4zLw"
   },
   "outputs": [],
   "source": [
    "\n",
    "def orthogonal_rot(image):\n",
    "    img=np.rot90(image, np.random.choice([-1, 0, 1]))\n",
    "    img=tf.keras.applications.efficientnet.preprocess_input(img)\n",
    "    return img\n",
    "\n",
    "apply_data_augmentation = True\n",
    "\n",
    "# Create training ImageDataGenerator object\n",
    "if apply_data_augmentation:\n",
    "    train_data_gen = ImageDataGenerator(\n",
    "                                        horizontal_flip=True,\n",
    "                                        vertical_flip=True,\n",
    "                                        zoom_range=[1.0,1.3],\n",
    "                                        #fill_mode='nearest',\n",
    "                                        #cval=0,\n",
    "                                        preprocessing_function=orthogonal_rot,\n",
    "                                        #rescale=1./255,\n",
    "                                        )\n",
    "\n",
    "valid_data_gen = ImageDataGenerator(#horizontal_flip=True,\n",
    "                                        #vertical_flip=True,\n",
    "                                        #zoom_range=[1.0,1.3],\n",
    "                                        #fill_mode='nearest',\n",
    "                                        #cval=0,\n",
    "                                        preprocessing_function=tf.keras.applications.efficientnet.preprocess_input,\n",
    "                                        #rescale=1./255,\n",
    "                                        #validation_split=0.2\n",
    ")\n",
    "\n",
    "\n",
    "test_data_gen = ImageDataGenerator(#horizontal_flip=True,\n",
    "                                        #vertical_flip=True,\n",
    "                                        #zoom_range=[1.0,1.3],\n",
    "                                        #fill_mode='nearest',\n",
    "                                        #cval=0,\n",
    "                                        preprocessing_function=tf.keras.applications.efficientnet.preprocess_input,\n",
    "                                        #rescale=1./255,\n",
    "                                        #validation_split=0.2\n",
    ")"
   ]
  },
  {
   "cell_type": "code",
   "execution_count": 57,
   "metadata": {
    "id": "O_hJ4t7U7oYn"
   },
   "outputs": [
    {
     "name": "stdout",
     "output_type": "stream",
     "text": [
      "Found 3771 validated image filenames.\n",
      "Found 3458 validated image filenames.\n"
     ]
    }
   ],
   "source": [
    "# Create generators to read images from dataset directory\n",
    "# -------------------------------------------------------\n",
    "#dataset_dir = os.path.join(cwd,'labelled_datasets/dataset_1/')\n",
    "\n",
    "# Batch size\n",
    "bs = 8\n",
    "\n",
    "# img shape\n",
    "img_h = 500\n",
    "img_w = 500\n",
    "\n",
    "num_classes=2\n",
    "\n",
    "# Training\n",
    "#training_dir = os.path.join(dataset_dir, 'train')\n",
    "train_gen = train_data_gen.flow_from_dataframe(dataframe=df_train,\n",
    "                                                directory=None,\n",
    "                                                x_col='img_path',\n",
    "                                                y_col='diff_perc',\n",
    "                                               batch_size=bs,\n",
    "                                               target_size=(img_h,img_w),\n",
    "                                               color_mode='rgb',\n",
    "                                               class_mode='raw',\n",
    "                                               shuffle=True,\n",
    "                                               seed=SEED\n",
    "                                               )  # targets are directly converted into one-hot vectors\n",
    "\n",
    "# Validation\n",
    "#validation_dir = os.path.join(dataset_dir, 'valid')\n",
    "# valid_gen = valid_data_gen.flow_from_dataframe(dataframe=df_val,\n",
    "#                                                 directory=None,\n",
    "#                                                 x_col='img_path',\n",
    "#                                                 y_col='diff_perc',\n",
    "#                                                batch_size=bs,\n",
    "#                                                target_size=(img_h,img_w),\n",
    "#                                                color_mode='rgb',\n",
    "#                                                class_mode='raw',\n",
    "#                                                shuffle=True,\n",
    "#                                                seed=SEED\n",
    "#                                                )\n",
    "\n",
    "# Test\n",
    "#test_dir = os.path.join(dataset_dir, 'test')\n",
    "\n",
    "test_gen = test_data_gen.flow_from_dataframe(dataframe=df_test,\n",
    "                                                directory=None,\n",
    "                                                x_col='img_path',\n",
    "                                                y_col='diff_perc',\n",
    "                                               batch_size=bs,\n",
    "                                               target_size=(img_h,img_w),\n",
    "                                               color_mode='rgb',\n",
    "                                               class_mode='raw',\n",
    "                                               shuffle=False,\n",
    "                                               seed=SEED\n",
    "                                               )\n",
    "\n"
   ]
  },
  {
   "cell_type": "code",
   "execution_count": 58,
   "metadata": {},
   "outputs": [
    {
     "name": "stdout",
     "output_type": "stream",
     "text": [
      "Num GPUs Available:  1\n"
     ]
    }
   ],
   "source": [
    "print(\"Num GPUs Available: \", len(tf.config.list_physical_devices('GPU')))\n",
    "\n"
   ]
  },
  {
   "cell_type": "code",
   "execution_count": 59,
   "metadata": {},
   "outputs": [],
   "source": [
    "enet = tf.keras.applications.EfficientNetB1(input_shape=(img_h,img_w,3),include_top=False,weights='imagenet')\n",
    "\n",
    "finetuning=True\n",
    "\n",
    "if finetuning:\n",
    "    freeze_until = 200 # layer from which fine-tuning starts\n",
    "    \n",
    "    for layer in enet.layers[:freeze_until]:\n",
    "        layer.trainable = False\n",
    "else:\n",
    "    enet.trainable = False\n",
    "\n",
    "\n",
    "model=tf.keras.Sequential()\n",
    "model.add(enet)\n",
    "model.add(Conv2D(1280,1,padding=\"same\",activation='relu'))\n",
    "\n",
    "model.add(tf.keras.layers.GlobalAveragePooling2D())\n",
    "model.add(tf.keras.layers.Dropout(0.4))\n",
    "model.add(tf.keras.layers.Dense(units=1, activation='relu'))\n"
   ]
  },
  {
   "cell_type": "code",
   "execution_count": 60,
   "metadata": {
    "id": "861CrLRO-Q6i"
   },
   "outputs": [
    {
     "name": "stdout",
     "output_type": "stream",
     "text": [
      "Model: \"sequential_1\"\n",
      "_________________________________________________________________\n",
      "Layer (type)                 Output Shape              Param #   \n",
      "=================================================================\n",
      "efficientnetb1 (Functional)  (None, 16, 16, 1280)      6575239   \n",
      "_________________________________________________________________\n",
      "conv2d_1 (Conv2D)            (None, 16, 16, 1280)      1639680   \n",
      "_________________________________________________________________\n",
      "global_average_pooling2d_1 ( (None, 1280)              0         \n",
      "_________________________________________________________________\n",
      "dropout_1 (Dropout)          (None, 1280)              0         \n",
      "_________________________________________________________________\n",
      "dense_1 (Dense)              (None, 1)                 1281      \n",
      "=================================================================\n",
      "Total params: 8,216,200\n",
      "Trainable params: 7,440,885\n",
      "Non-trainable params: 775,315\n",
      "_________________________________________________________________\n"
     ]
    }
   ],
   "source": [
    "model.summary()"
   ]
  },
  {
   "cell_type": "code",
   "execution_count": 61,
   "metadata": {
    "id": "k6fX2MeR-U48"
   },
   "outputs": [],
   "source": [
    "# #Optimization parameters\n",
    "\n",
    "# #Learning rate\n",
    "# lr = 1e-4\n",
    "# optimizer = tf.keras.optimizers.Adam(lr=lr)\n",
    "\n",
    "# #Compile model\n",
    "# model.compile(optimizer=optimizer, loss='mean_squared_error')"
   ]
  },
  {
   "cell_type": "code",
   "execution_count": null,
   "metadata": {
    "id": "gpQajwkDHQfP"
   },
   "outputs": [],
   "source": []
  },
  {
   "cell_type": "code",
   "execution_count": 62,
   "metadata": {},
   "outputs": [],
   "source": [
    "# callbacks = []\n",
    "\n",
    "# early_stop = True\n",
    "# tensorboard = True\n",
    "# if early_stop:\n",
    "#     es_callback = tf.keras.callbacks.EarlyStopping(monitor='val_loss', patience=12,restore_best_weights=True)\n",
    "#     callbacks.append(es_callback)\n",
    "# if tensorboard:\n",
    "#     tensorboard = TensorBoard(log_dir=os.path.join(cwd,'tensorboard_logs_regression'))\n",
    "#     callbacks.append(tensorboard)"
   ]
  },
  {
   "cell_type": "code",
   "execution_count": null,
   "metadata": {},
   "outputs": [],
   "source": []
  },
  {
   "cell_type": "code",
   "execution_count": 63,
   "metadata": {
    "id": "PchM96neeTy_"
   },
   "outputs": [],
   "source": [
    "# model.fit_generator(train_gen,\n",
    "# steps_per_epoch=len(train_gen)//bs,\n",
    "# epochs=24,\n",
    "# verbose=1,\n",
    "# validation_data=valid_gen,\n",
    "# validation_steps=len(valid_gen)//bs)"
   ]
  },
  {
   "cell_type": "code",
   "execution_count": 64,
   "metadata": {},
   "outputs": [],
   "source": [
    "# %load_ext tensorboard\n",
    "# %tensorboard --logdir tensorboard_logs"
   ]
  },
  {
   "cell_type": "code",
   "execution_count": 65,
   "metadata": {
    "id": "5b_KC7_6y0vl"
   },
   "outputs": [],
   "source": [
    "# model_save_path = os.path.join(cwd,'checkpoint_weights_regression')\n",
    "# if not os.path.exists(model_save_path):\n",
    "#     os.makedirs(model_save_path)\n",
    "# model.save_weights(os.path.join(model_save_path,'weights_1.h5'))"
   ]
  },
  {
   "cell_type": "code",
   "execution_count": 66,
   "metadata": {},
   "outputs": [],
   "source": [
    "model_load_path = os.path.join(cwd,'checkpoint_weights', 'weights_regression','weights_1.h5')\n",
    "model.load_weights(model_load_path)"
   ]
  },
  {
   "cell_type": "code",
   "execution_count": 67,
   "metadata": {},
   "outputs": [
    {
     "name": "stderr",
     "output_type": "stream",
     "text": [
      "Clipping input data to the valid range for imshow with RGB data ([0..1] for floats or [0..255] for integers).\n"
     ]
    },
    {
     "name": "stdout",
     "output_type": "stream",
     "text": [
      "(8, 500, 500, 3)\n"
     ]
    },
    {
     "data": {
      "text/plain": [
       "<matplotlib.image.AxesImage at 0x7f3be6f8fb50>"
      ]
     },
     "execution_count": 67,
     "metadata": {},
     "output_type": "execute_result"
    },
    {
     "data": {
      "image/png": "[encoded data removed]",
      "text/plain": [
       "<Figure size 640x480 with 1 Axes>"
      ]
     },
     "metadata": {},
     "output_type": "display_data"
    },
    {
     "name": "stderr",
     "output_type": "stream",
     "text": [
      "Clipping input data to the valid range for imshow with RGB data ([0..1] for floats or [0..255] for integers).\n"
     ]
    },
    {
     "data": {
      "text/plain": [
       "<matplotlib.image.AxesImage at 0x7f3be6ef06d0>"
      ]
     },
     "execution_count": 67,
     "metadata": {},
     "output_type": "execute_result"
    },
    {
     "data": {
      "image/png": "[encoded data removed]",
      "text/plain": [
       "<Figure size 640x480 with 1 Axes>"
      ]
     },
     "metadata": {},
     "output_type": "display_data"
    },
    {
     "name": "stderr",
     "output_type": "stream",
     "text": [
      "Clipping input data to the valid range for imshow with RGB data ([0..1] for floats or [0..255] for integers).\n"
     ]
    },
    {
     "data": {
      "text/plain": [
       "<matplotlib.image.AxesImage at 0x7f3be6ebc6d0>"
      ]
     },
     "execution_count": 67,
     "metadata": {},
     "output_type": "execute_result"
    },
    {
     "data": {
      "image/png": "[encoded data removed]",
      "text/plain": [
       "<Figure size 640x480 with 1 Axes>"
      ]
     },
     "metadata": {},
     "output_type": "display_data"
    },
    {
     "name": "stderr",
     "output_type": "stream",
     "text": [
      "Clipping input data to the valid range for imshow with RGB data ([0..1] for floats or [0..255] for integers).\n"
     ]
    },
    {
     "data": {
      "text/plain": [
       "<matplotlib.image.AxesImage at 0x7f3be6e73b20>"
      ]
     },
     "execution_count": 67,
     "metadata": {},
     "output_type": "execute_result"
    },
    {
     "data": {
      "image/png": "[encoded data removed]",
      "text/plain": [
       "<Figure size 640x480 with 1 Axes>"
      ]
     },
     "metadata": {},
     "output_type": "display_data"
    },
    {
     "name": "stderr",
     "output_type": "stream",
     "text": [
      "Clipping input data to the valid range for imshow with RGB data ([0..1] for floats or [0..255] for integers).\n"
     ]
    },
    {
     "data": {
      "text/plain": [
       "<matplotlib.image.AxesImage at 0x7f3be6e51070>"
      ]
     },
     "execution_count": 67,
     "metadata": {},
     "output_type": "execute_result"
    },
    {
     "data": {
      "image/png": "[encoded data removed]",
      "text/plain": [
       "<Figure size 640x480 with 1 Axes>"
      ]
     },
     "metadata": {},
     "output_type": "display_data"
    },
    {
     "name": "stderr",
     "output_type": "stream",
     "text": [
      "Clipping input data to the valid range for imshow with RGB data ([0..1] for floats or [0..255] for integers).\n"
     ]
    },
    {
     "data": {
      "text/plain": [
       "<matplotlib.image.AxesImage at 0x7f3be6da93d0>"
      ]
     },
     "execution_count": 67,
     "metadata": {},
     "output_type": "execute_result"
    },
    {
     "data": {
      "image/png": "[encoded data removed]",
      "text/plain": [
       "<Figure size 640x480 with 1 Axes>"
      ]
     },
     "metadata": {},
     "output_type": "display_data"
    },
    {
     "name": "stderr",
     "output_type": "stream",
     "text": [
      "Clipping input data to the valid range for imshow with RGB data ([0..1] for floats or [0..255] for integers).\n"
     ]
    },
    {
     "data": {
      "text/plain": [
       "<matplotlib.image.AxesImage at 0x7f3be6ddd880>"
      ]
     },
     "execution_count": 67,
     "metadata": {},
     "output_type": "execute_result"
    },
    {
     "data": {
      "image/png": "[encoded data removed]",
      "text/plain": [
       "<Figure size 640x480 with 1 Axes>"
      ]
     },
     "metadata": {},
     "output_type": "display_data"
    },
    {
     "name": "stderr",
     "output_type": "stream",
     "text": [
      "Clipping input data to the valid range for imshow with RGB data ([0..1] for floats or [0..255] for integers).\n"
     ]
    },
    {
     "data": {
      "text/plain": [
       "<matplotlib.image.AxesImage at 0x7f3be6d3ecd0>"
      ]
     },
     "execution_count": 67,
     "metadata": {},
     "output_type": "execute_result"
    },
    {
     "data": {
      "image/png": "[encoded data removed]",
      "text/plain": [
       "<Figure size 640x480 with 1 Axes>"
      ]
     },
     "metadata": {},
     "output_type": "display_data"
    }
   ],
   "source": [
    "print(test_gen.next()[0].shape)\n",
    "z= test_gen.next()\n",
    "for i in range(0,8):\n",
    "    plt.imshow(z[0][i])\n",
    "    plt.show()\n"
   ]
  },
  {
   "cell_type": "code",
   "execution_count": 68,
   "metadata": {},
   "outputs": [
    {
     "name": "stdout",
     "output_type": "stream",
     "text": [
      "433/433 [==============================] - 86s 198ms/step\n"
     ]
    }
   ],
   "source": [
    "pred=model.predict(test_gen,verbose=1)\n"
   ]
  },
  {
   "cell_type": "code",
   "execution_count": 69,
   "metadata": {},
   "outputs": [
    {
     "name": "stdout",
     "output_type": "stream",
     "text": [
      "[[71.25623  ]\n",
      " [43.036053 ]\n",
      " [36.987453 ]\n",
      " ...\n",
      " [10.7954235]\n",
      " [ 0.       ]\n",
      " [ 0.       ]]\n",
      "3458\n",
      "3458\n"
     ]
    }
   ],
   "source": [
    "print(pred)\n",
    "print(len(pred))\n",
    "print(len(df_test))"
   ]
  },
  {
   "cell_type": "code",
   "execution_count": 70,
   "metadata": {},
   "outputs": [
    {
     "name": "stdout",
     "output_type": "stream",
     "text": [
      "                                               img_path   diff_perc  \\\n",
      "0     /home/aislab/Documents/StakanovThesis/robot-aw...  106.736574   \n",
      "1     /home/aislab/Documents/StakanovThesis/robot-aw...   88.505788   \n",
      "2     /home/aislab/Documents/StakanovThesis/robot-aw...   64.299957   \n",
      "3     /home/aislab/Documents/StakanovThesis/robot-aw...   49.537566   \n",
      "4     /home/aislab/Documents/StakanovThesis/robot-aw...   39.943350   \n",
      "...                                                 ...         ...   \n",
      "3453  /home/aislab/Documents/StakanovThesis/robot-aw...   33.177183   \n",
      "3454  /home/aislab/Documents/StakanovThesis/robot-aw...   25.810911   \n",
      "3455  /home/aislab/Documents/StakanovThesis/robot-aw...    9.809324   \n",
      "3456  /home/aislab/Documents/StakanovThesis/robot-aw...    0.197108   \n",
      "3457  /home/aislab/Documents/StakanovThesis/robot-aw...    0.061116   \n",
      "\n",
      "      prediction  abs_error  mean_abs_error  \n",
      "0      71.256233  35.480340       11.374693  \n",
      "1      43.036053  45.469735       11.374693  \n",
      "2      36.987453  27.312503       11.374693  \n",
      "3      36.005852  13.531714       11.374693  \n",
      "4      31.387526   8.555824       11.374693  \n",
      "...          ...        ...             ...  \n",
      "3453   23.849230   9.327953       11.374693  \n",
      "3454   22.973299   2.837612       11.374693  \n",
      "3455   10.795424   0.986100       11.374693  \n",
      "3456    0.000000   0.197108       11.374693  \n",
      "3457    0.000000   0.061116       11.374693  \n",
      "\n",
      "[3458 rows x 5 columns]\n"
     ]
    }
   ],
   "source": [
    "df_test['prediction'] = pred\n",
    "df_test['abs_error'] = df_test['prediction']-df_test['diff_perc']\n",
    "df_test['abs_error'] = df_test['abs_error'].apply(abs)\n",
    "df_test['mean_abs_error'] = df_test['abs_error'].mean()\n",
    "print(df_test)\n"
   ]
  },
  {
   "cell_type": "code",
   "execution_count": 71,
   "metadata": {},
   "outputs": [],
   "source": [
    "df_test.to_csv('Results/regression_results.csv')"
   ]
  },
  {
   "cell_type": "code",
   "execution_count": null,
   "metadata": {},
   "outputs": [],
   "source": []
  }
 ],
 "metadata": {
  "accelerator": "GPU",
  "colab": {
   "collapsed_sections": [],
   "name": "Classification_Colab.ipynb",
   "provenance": []
  },
  "kernelspec": {
   "display_name": "Python 3 (ipykernel)",
   "language": "python",
   "name": "python3"
  },
  "language_info": {
   "codemirror_mode": {
    "name": "ipython",
    "version": 3
   },
   "file_extension": ".py",
   "mimetype": "text/x-python",
   "name": "python",
   "nbconvert_exporter": "python",
   "pygments_lexer": "ipython3",
   "version": "3.8.15"
  }
 },
 "nbformat": 4,
 "nbformat_minor": 4
}
